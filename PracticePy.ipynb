{
 "cells": [
  {
   "cell_type": "code",
   "execution_count": null,
   "id": "6df38baf-70b6-4c1d-976b-cd993da6761f",
   "metadata": {},
   "outputs": [],
   "source": [
    "#Check whether a number is palindrome or not"
   ]
  },
  {
   "cell_type": "code",
   "execution_count": null,
   "id": "2f2607c6-f7c4-4be5-974e-45068a9dec37",
   "metadata": {
    "tags": []
   },
   "outputs": [],
   "source": [
    "def is_palindrome(n:int):\n",
    "  t = n\n",
    "  rem = 0\n",
    "  while n>0:\n",
    "      dig = n%10\n",
    "      rem = rem*10+dig\n",
    "      n = n//10\n",
    "  return (t == rem)\n",
    "is_palindrome(1221)"
   ]
  },
  {
   "cell_type": "code",
   "execution_count": null,
   "id": "44253d7f-1c66-4820-b5a0-9805f126f7ca",
   "metadata": {},
   "outputs": [],
   "source": [
    "#roman to integer (usually roman numbers are in descending order except for 4,9,40,90,400,900,)"
   ]
  },
  {
   "cell_type": "code",
   "execution_count": null,
   "id": "44d67779-82e1-44a6-ae9c-bdc42088e1db",
   "metadata": {},
   "outputs": [],
   "source": [
    "def roman_to_integer(s:str) :\n",
    "  integer = 0\n",
    "  romans = {'I' : 1,'V' : 5,'X' : 10,'L' : 50,'C' : 100,'D' : 500,'M' : 1000}\n",
    "  for i in range(len(s)):\n",
    "    if i+1 < len(s) and romans[s[i]]<romans[s[i+1]]:\n",
    "      integer -= romans[s[i]]\n",
    "    else:\n",
    "      integer += romans[s[i]]\n",
    "  return integer\n",
    "roman_to_integer('MMCMXLIV')"
   ]
  },
  {
   "cell_type": "code",
   "execution_count": null,
   "id": "5d1c8271-205c-454c-8a15-8e6c3a0ddf33",
   "metadata": {},
   "outputs": [],
   "source": [
    "#Passing Function as an Argument (Decorators)"
   ]
  },
  {
   "cell_type": "code",
   "execution_count": null,
   "id": "40a1fc63-c84b-46f0-b397-c5851cbee539",
   "metadata": {},
   "outputs": [],
   "source": [
    "def shout(text):\n",
    "  return text.upper()\n",
    "def whisper(text):\n",
    "  return text.lower()\n",
    "def greet(func):\n",
    "# storing the function in a variable\n",
    "  greeting = func(\"function passed as an argument.\")\n",
    "  return greeting\n",
    "greet(shout)\n",
    "greet(whisper)"
   ]
  },
  {
   "cell_type": "code",
   "execution_count": null,
   "id": "6ae3c69e",
   "metadata": {},
   "outputs": [],
   "source": [
    "#Recursive function Example:"
   ]
  },
  {
   "cell_type": "code",
   "execution_count": null,
   "id": "971cc6ec",
   "metadata": {},
   "outputs": [],
   "source": [
    "def sum_naturals(n):\n",
    "    if n == 0:\n",
    "        return 0\n",
    "    else:\n",
    "        return n + sum_naturals(n-1)\n",
    "sum_naturals(150)"
   ]
  },
  {
   "cell_type": "code",
   "execution_count": null,
   "id": "a8c6ee1b",
   "metadata": {},
   "outputs": [],
   "source": [
    "#two sum (leetcode) (difficulty = Easy)"
   ]
  },
  {
   "cell_type": "code",
   "execution_count": null,
   "id": "f7ced41b",
   "metadata": {},
   "outputs": [],
   "source": [
    "def twosum(nums: list[int], target: int):\n",
    "    d = {}\n",
    "    for index, value in enumerate(nums):\n",
    "        rem = target - value\n",
    "        if rem in d:\n",
    "            return [ d[rem] , index]\n",
    "        else:\n",
    "            d[value] = index\n",
    "twosum([3,5,2,1,6] , 7)\n"
   ]
  },
  {
   "cell_type": "code",
   "execution_count": null,
   "id": "c6884733",
   "metadata": {},
   "outputs": [],
   "source": [
    "# Flip String to Monotone Increasing"
   ]
  },
  {
   "cell_type": "code",
   "execution_count": null,
   "id": "9b609122",
   "metadata": {},
   "outputs": [],
   "source": [
    "def monotone(s : str):\n",
    "    ones = 0\n",
    "    flip = 0\n",
    "    for i in s:\n",
    "        if i == '1':\n",
    "            ones += 1\n",
    "        elif ones>0:\n",
    "            ones -= 1\n",
    "            flip += 1\n",
    "    return flip\n",
    "monotone('111000')"
   ]
  },
  {
   "cell_type": "code",
   "execution_count": null,
   "id": "5ec53241",
   "metadata": {},
   "outputs": [],
   "source": [
    "#Binary Search"
   ]
  },
  {
   "cell_type": "code",
   "execution_count": null,
   "id": "80339960",
   "metadata": {},
   "outputs": [],
   "source": [
    "def search(nums : list[int], target: int):\n",
    "    low, high = 0, len(nums) - 1\n",
    "    while low <= high:\n",
    "        mid = (low + high) // 2\n",
    "        if nums[mid] == target:\n",
    "            return mid\n",
    "        elif nums[mid] < target:\n",
    "            low = mid + 1\n",
    "        else:\n",
    "            high = mid - 1\n",
    "    return -1\n",
    "search([1,2,-3,4,9,21] , 2)"
   ]
  },
  {
   "cell_type": "code",
   "execution_count": null,
   "id": "000528c8",
   "metadata": {},
   "outputs": [],
   "source": [
    "# Maximum Count of Positive Integer and Negative Integer"
   ]
  },
  {
   "cell_type": "code",
   "execution_count": null,
   "id": "7c131294",
   "metadata": {},
   "outputs": [],
   "source": [
    "def pos_neg_max(nums : list):\n",
    "    pos = 0\n",
    "    neg = 0\n",
    "    for num in nums:\n",
    "        if num>0:\n",
    "            pos+=1\n",
    "        elif num < 0:\n",
    "            neg+=1\n",
    "    return max(pos,neg)\n",
    "pos_neg_max([-1,4,2,-2,0,1])"
   ]
  },
  {
   "cell_type": "code",
   "execution_count": null,
   "id": "46c499b5",
   "metadata": {},
   "outputs": [],
   "source": [
    "#Linked list in python:"
   ]
  },
  {
   "cell_type": "code",
   "execution_count": null,
   "id": "bf85f14b-d0cd-4f89-bdf4-c79d9f41bead",
   "metadata": {},
   "outputs": [],
   "source": [
    "#remove node from linked list\n",
    "\n",
    "class Node:\n",
    "   def __init__(self, data=None):\n",
    "      self.data = data\n",
    "      self.next = None\n",
    "class SLinkedList:\n",
    "   def __init__(self):\n",
    "      self.head = None\n",
    "\n",
    "   def Atbegining(self, data_in):\n",
    "      NewNode = Node(data_in)\n",
    "      NewNode.next = self.head\n",
    "      self.head = NewNode\n",
    "\n",
    "# Function to remove node\n",
    "   def RemoveNode(self, Removekey):\n",
    "      HeadVal = self.head\n",
    "         \n",
    "      if (HeadVal is not None):\n",
    "         if (HeadVal.data == Removekey):\n",
    "            self.head = HeadVal.next\n",
    "            HeadVal = None\n",
    "            return\n",
    "      while (HeadVal is not None):\n",
    "         if HeadVal.data == Removekey:\n",
    "            break\n",
    "         prev = HeadVal\n",
    "         HeadVal = HeadVal.next\n",
    "\n",
    "      if (HeadVal == None):\n",
    "         return\n",
    "\n",
    "      prev.next = HeadVal.next\n",
    "      HeadVal = None\n",
    "\n",
    "   def LListprint(self):\n",
    "      printval = self.head\n",
    "      while (printval):\n",
    "         print(printval.data),\n",
    "         printval = printval.next\n",
    "\n",
    "llist = SLinkedList()\n",
    "llist.Atbegining(\"Mon\")\n",
    "llist.Atbegining(\"Tue\")\n",
    "llist.Atbegining(\"Wed\")\n",
    "llist.Atbegining(\"Thu\")\n",
    "llist.RemoveNode(\"Tue\")\n",
    "llist.LListprint()"
   ]
  },
  {
   "cell_type": "code",
   "execution_count": null,
   "id": "652d7788-73c4-4c59-8676-d1866130f286",
   "metadata": {},
   "outputs": [],
   "source": [
    "#queue in python\n",
    "class Queue:\n",
    "    def __init__(self):\n",
    "        self.queue = list()\n",
    "    def push(self,value):\n",
    "        try:\n",
    "            if value not in self.queue and type(int(value)) == int:\n",
    "                self.queue.insert(0,value)\n",
    "                return True\n",
    "            return False\n",
    "        except Exception as e:\n",
    "            print(e)\n",
    "            print('This Queue only accepts Integers and Integers as Strings')\n",
    "    def size(self):\n",
    "        return len(self.queue)\n",
    "    def pop(self):\n",
    "        try:\n",
    "            l = Queue.size(self)\n",
    "            if l > 0:\n",
    "                return (self.queue.pop())\n",
    "            elif l == 0:\n",
    "                return self.queue.pop()\n",
    "        except Exception as f:\n",
    "            print(f)\n",
    "            print('Cannot pop from empty Queue')\n",
    "            \n",
    "q = Queue()\n",
    "q.push('1')\n",
    "q.push('2')\n",
    "q.push('3')\n",
    "\n",
    "q.pop()\n",
    "q.queue"
   ]
  },
  {
   "cell_type": "code",
   "execution_count": null,
   "id": "6867cc25-7154-424c-b4aa-29243d7a788c",
   "metadata": {},
   "outputs": [],
   "source": [
    "#!/usr/bin/env python3\n",
    "# -*- coding: utf-8 -*-\n",
    "\"\"\"\n",
    "Created on Thu Jan 19 09:37:22 2023\n",
    "\n",
    "@author: hp\n",
    "\"\"\"\n",
    "#dequeue in python\n",
    "\n",
    "class dequeue:\n",
    "    \n",
    "    def __init__(self):\n",
    "        self.que = list()\n",
    "    def app_right(self,value):\n",
    "        if value not in self.que:\n",
    "            self.que.append(value)\n",
    "            return True\n",
    "        #else:\n",
    "            #return False\n",
    "    def app_left(self,value):\n",
    "        if value not in self.que:\n",
    "            self.que.insert(0,value)\n",
    "            return True\n",
    "        return False\n",
    "    def pop_right(self):\n",
    "        if len(self.que) > 0:\n",
    "            return self.que.pop()\n",
    "        return('No element in Dequeue')\n",
    "    def pop_left(self):\n",
    "        if len(self.que)>0:\n",
    "            return self.que.pop(0)\n",
    "        return('No element in Dequeue')\n",
    "\n",
    "        \n",
    "q = dequeue()\n",
    "q.app_left('Pavan')\n",
    "q.app_right('Koundinya')\n",
    "q.app_left('sacas')\n",
    "q.app_right('Lanka')\n",
    "print(q.que)\n",
    "print(\"The Queue after removing left element '{}' is {}\".format(q.pop_left(), q.que))\n",
    "print(\"The Queue after removing right element '{}' is {}\".format(q.pop_right(), q.que))\n"
   ]
  },
  {
   "cell_type": "code",
   "execution_count": null,
   "id": "3e477c85-eefa-4176-9550-5772b7bcae75",
   "metadata": {},
   "outputs": [],
   "source": [
    "#Stack in python\n",
    "class Stack:\n",
    "    def __init__(self):\n",
    "        self.stack = list()\n",
    "\n",
    "#%% Pushing into stack\n",
    "    def push(self,value):\n",
    "        try:\n",
    "            if value not in self.stack and int(value)>0:\n",
    "                self.stack.append(value)\n",
    "                return True\n",
    "            else:\n",
    "                return False\n",
    "        except Exception as e:\n",
    "            print('This Stack only accepts Integers')\n",
    "#%% POP from stack\n",
    "    def remove(self):\n",
    "        try:\n",
    "            if len(self.stack) == 0: \n",
    "                return\n",
    "            else:\n",
    "                return self.stack.pop()\n",
    "        except Exception as e:\n",
    "            print(e)\n",
    "s = Stack()\n",
    "s.push('Pavan')\n",
    "s.push(3)\n",
    "s.push(2)\n",
    "s.push(4)\n",
    "print (s.stack)\n",
    "print(f'The stack after removing {s.remove()} is {s.stack}')\n"
   ]
  },
  {
   "cell_type": "code",
   "execution_count": null,
   "id": "3bc30d80-90bb-428c-875e-ff3056d80ecc",
   "metadata": {},
   "outputs": [],
   "source": [
    "#linear regression in python\n",
    "import matplotlib.pyplot as plt\n",
    "\n",
    "# Example dataset\n",
    "x = [1, 2, 3, 4, 5] # independent variable\n",
    "y = [2, 4, 5, 4, 5] # dependent variable\n",
    "\n",
    "# Calculate the mean of x and y\n",
    "x_mean = sum(x) / len(x)\n",
    "y_mean = sum(y) / len(y)\n",
    "\n",
    "# Calculate the slope and y-intercept of the regression line\n",
    "numerator = sum([(x[i] - x_mean) * (y[i] - y_mean) for i in range(len(x))])\n",
    "denominator = sum([(x[i] - x_mean) ** 2 for i in range(len(x))])\n",
    "slope = numerator / denominator\n",
    "y_intercept = y_mean - slope * x_mean\n",
    "\n",
    "# Print the slope and y-intercept\n",
    "print(\"Slope:\", slope)\n",
    "print(\"Y-intercept:\", y_intercept)\n",
    "\n",
    "# Use the regression line equation to predict a new value\n",
    "new_x = 6\n",
    "new_y = slope * new_x + y_intercept\n",
    "print(\"Predicted value for x =\", new_x, \"is y =\", new_y)\n",
    "\n",
    "# Plot the data points and regression line\n",
    "plt.scatter(x, y)\n",
    "plt.plot(x, [slope * xi + y_intercept for xi in x], color='red')\n",
    "plt.xlabel('X')\n",
    "plt.ylabel('Y')\n",
    "plt.title('Linear Regression')\n",
    "plt.show()\n"
   ]
  },
  {
   "cell_type": "code",
   "execution_count": null,
   "id": "9ceb33ff",
   "metadata": {},
   "outputs": [],
   "source": [
    "'SCT' = 4\n",
    "print('SCT')"
   ]
  }
 ],
 "metadata": {
  "kernelspec": {
   "display_name": "Python 3",
   "language": "python",
   "name": "python3"
  },
  "language_info": {
   "codemirror_mode": {
    "name": "ipython",
    "version": 3
   },
   "file_extension": ".py",
   "mimetype": "text/x-python",
   "name": "python",
   "nbconvert_exporter": "python",
   "pygments_lexer": "ipython3",
   "version": "3.10.9"
  },
  "vscode": {
   "interpreter": {
    "hash": "1a5cbe83976769cb0b85a349a30adb644f8248dc90fe195798c4c28a1d633e4a"
   }
  }
 },
 "nbformat": 4,
 "nbformat_minor": 5
}
